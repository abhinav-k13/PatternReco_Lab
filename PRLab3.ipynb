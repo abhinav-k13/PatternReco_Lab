{
  "nbformat": 4,
  "nbformat_minor": 0,
  "metadata": {
    "colab": {
      "provenance": [],
      "authorship_tag": "ABX9TyNzJRQ6sn3D0xImDlVexDK6",
      "include_colab_link": true
    },
    "kernelspec": {
      "name": "python3",
      "display_name": "Python 3"
    },
    "language_info": {
      "name": "python"
    }
  },
  "cells": [
    {
      "cell_type": "markdown",
      "metadata": {
        "id": "view-in-github",
        "colab_type": "text"
      },
      "source": [
        "<a href=\"https://colab.research.google.com/github/abhinav-k13/PatternReco_Lab/blob/main/PRLab3.ipynb\" target=\"_parent\"><img src=\"https://colab.research.google.com/assets/colab-badge.svg\" alt=\"Open In Colab\"/></a>"
      ]
    },
    {
      "cell_type": "code",
      "execution_count": 12,
      "metadata": {
        "id": "rjGgtjdAC97N"
      },
      "outputs": [],
      "source": [
        "import pandas as pd\n",
        "import numpy as np\n",
        "import matplotlib.pyplot as plt\n",
        "import seaborn as sns\n",
        "from sklearn.model_selection import train_test_split\n",
        "from sklearn.preprocessing import LabelEncoder, StandardScaler\n",
        "from sklearn.linear_model import LogisticRegression\n",
        "from sklearn.metrics import (\n",
        "    accuracy_score, precision_score, recall_score, f1_score, roc_auc_score, roc_curve, confusion_matrix\n",
        ")"
      ]
    },
    {
      "cell_type": "code",
      "source": [
        "# Load Dataset\n",
        "df = pd.read_csv(\"/content/weatherAUS.csv\")"
      ],
      "metadata": {
        "id": "vcT2_SbRFOMz"
      },
      "execution_count": 13,
      "outputs": []
    },
    {
      "cell_type": "code",
      "source": [
        "# Drop irrelevant columns\n",
        "df.drop(columns=[\"Date\", \"RISK_MM\"], inplace=True)"
      ],
      "metadata": {
        "id": "9kdazTfhFVg-"
      },
      "execution_count": 14,
      "outputs": []
    },
    {
      "cell_type": "code",
      "source": [
        "# Handle missing values\n",
        "num_cols = df.select_dtypes(include=[\"float64\"]).columns\n",
        "df[num_cols] = df[num_cols].fillna(df[num_cols].median())\n",
        "\n",
        "cat_cols = df.select_dtypes(include=[\"object\"]).columns\n",
        "df[cat_cols] = df[cat_cols].apply(lambda x: x.fillna(x.mode()[0]))\n",
        "\n",
        "# Encode categorical variables\n",
        "label_encoders = {}\n",
        "for col in cat_cols:\n",
        "    le = LabelEncoder()\n",
        "    df[col] = le.fit_transform(df[col])\n",
        "    label_encoders[col] = le"
      ],
      "metadata": {
        "id": "spty6aysFfQS"
      },
      "execution_count": 15,
      "outputs": []
    },
    {
      "cell_type": "code",
      "source": [
        "# Split features and target\n",
        "X = df.drop(columns=[\"RainTomorrow\"])\n",
        "y = df[\"RainTomorrow\"]"
      ],
      "metadata": {
        "id": "UhxfWLNfFv0O"
      },
      "execution_count": 16,
      "outputs": []
    },
    {
      "cell_type": "code",
      "source": [
        "# Standardize numerical features\n",
        "scaler = StandardScaler()\n",
        "X[num_cols] = scaler.fit_transform(X[num_cols])"
      ],
      "metadata": {
        "id": "wj8qowXjF3Tf"
      },
      "execution_count": 17,
      "outputs": []
    },
    {
      "cell_type": "code",
      "source": [
        "# Split into training and testing sets\n",
        "X_train, X_test, y_train, y_test = train_test_split(X, y, test_size=0.2, random_state=42, stratify=y)"
      ],
      "metadata": {
        "id": "-C8TYoxaF3sR"
      },
      "execution_count": 18,
      "outputs": []
    },
    {
      "cell_type": "code",
      "source": [
        "# Train Logistic Regression Model\n",
        "log_reg = LogisticRegression(max_iter=1000, random_state=42)\n",
        "log_reg.fit(X_train, y_train)\n",
        "\n",
        "# Predictions\n",
        "y_pred = log_reg.predict(X_test)\n",
        "y_prob = log_reg.predict_proba(X_test)[:, 1]\n",
        "\n",
        "# Model Evaluation\n",
        "accuracy = accuracy_score(y_test, y_pred)\n",
        "precision = precision_score(y_test, y_pred)\n",
        "recall = recall_score(y_test, y_pred)\n",
        "f1 = f1_score(y_test, y_pred)\n",
        "roc_auc = roc_auc_score(y_test, y_prob)\n",
        "\n",
        "print(f\" Accuracy: {accuracy:.4f}\")\n",
        "print(f\" Precision: {precision:.4f}\")\n",
        "print(f\" Recall: {recall:.4f}\")\n",
        "print(f\" F1-Score: {f1:.4f}\")\n",
        "print(f\" ROC-AUC Score: {roc_auc:.4f}\")"
      ],
      "metadata": {
        "colab": {
          "base_uri": "https://localhost:8080/"
        },
        "id": "8jCQg8DqF55g",
        "outputId": "a90945d7-7afd-4aa7-cdea-5c72f93db568"
      },
      "execution_count": 19,
      "outputs": [
        {
          "output_type": "stream",
          "name": "stdout",
          "text": [
            " Accuracy: 0.8449\n",
            " Precision: 0.7274\n",
            " Recall: 0.4925\n",
            " F1-Score: 0.5874\n",
            " ROC-AUC Score: 0.8663\n"
          ]
        }
      ]
    },
    {
      "cell_type": "code",
      "source": [
        "# Plot ROC Curve\n",
        "fpr, tpr, _ = roc_curve(y_test, y_prob)\n",
        "plt.figure(figsize=(8, 6))\n",
        "plt.plot(fpr, tpr, color=\"blue\", label=f\"ROC Curve (AUC = {roc_auc:.2f})\")\n",
        "plt.plot([0, 1], [0, 1], linestyle=\"--\", color=\"gray\")  # Random classifier line\n",
        "plt.xlabel(\"False Positive Rate (FPR)\")\n",
        "plt.ylabel(\"True Positive Rate (TPR)\")\n",
        "plt.title(\"ROC-AUC Curve for Logistic Regression\")\n",
        "plt.legend()\n",
        "plt.grid()\n",
        "plt.show()\n"
      ],
      "metadata": {
        "colab": {
          "base_uri": "https://localhost:8080/",
          "height": 563
        },
        "id": "mFJ6-taEGEWZ",
        "outputId": "592c374e-9406-40ae-ba4a-a2a941d0ec3a"
      },
      "execution_count": 20,
      "outputs": [
        {
          "output_type": "display_data",
          "data": {
            "text/plain": [
              "<Figure size 800x600 with 1 Axes>"
            ],
            "image/png": "[encoded data removed]"
          },
          "metadata": {}
        }
      ]
    },
    {
      "cell_type": "code",
      "source": [
        "# Check Overfitting or Underfitting\n",
        "train_acc = log_reg.score(X_train, y_train)\n",
        "test_acc = log_reg.score(X_test, y_test)\n",
        "\n",
        "print(f\" Training Accuracy: {train_acc:.4f}\")\n",
        "print(f\" Testing Accuracy: {test_acc:.4f}\")"
      ],
      "metadata": {
        "colab": {
          "base_uri": "https://localhost:8080/"
        },
        "id": "7Xdy-G2kGHq3",
        "outputId": "a019c81b-53c2-483f-ff08-8aac00e43c09"
      },
      "execution_count": 21,
      "outputs": [
        {
          "output_type": "stream",
          "name": "stdout",
          "text": [
            " Training Accuracy: 0.8420\n",
            " Testing Accuracy: 0.8449\n"
          ]
        }
      ]
    },
    {
      "cell_type": "code",
      "source": [
        "if train_acc > test_acc + 0.05:\n",
        "    print(\" The model is Overfitting.\")\n",
        "elif test_acc > train_acc + 0.05:\n",
        "    print(\" The model is Underfitting.\")\n",
        "else:\n",
        "    print(\" The model has a good fit.\")"
      ],
      "metadata": {
        "colab": {
          "base_uri": "https://localhost:8080/"
        },
        "id": "mIsxSDYtGMRE",
        "outputId": "a9832535-7e42-407e-8279-4fb1024cd830"
      },
      "execution_count": 22,
      "outputs": [
        {
          "output_type": "stream",
          "name": "stdout",
          "text": [
            " The model has a good fit.\n"
          ]
        }
      ]
    },
    {
      "cell_type": "code",
      "source": [
        "# Pick a random sample from the test set and predict\n",
        "random_index = np.random.randint(0, X_test.shape[0])\n",
        "sample_test = X_test.iloc[random_index]\n",
        "actual_label = y_test.iloc[random_index]\n",
        "predicted_label = log_reg.predict([sample_test])[0]\n",
        "\n",
        "print(f\" Actual Label: {'Rain' if actual_label == 1 else 'No Rain'}\")\n",
        "print(f\" Predicted Label: {'Rain' if predicted_label == 1 else 'No Rain'}\")"
      ],
      "metadata": {
        "colab": {
          "base_uri": "https://localhost:8080/"
        },
        "id": "2UKGcoYNGSPL",
        "outputId": "de9a6ed3-2817-4807-df2d-8a21f705f611"
      },
      "execution_count": 24,
      "outputs": [
        {
          "output_type": "stream",
          "name": "stdout",
          "text": [
            " Actual Label: No Rain\n",
            " Predicted Label: No Rain\n"
          ]
        },
        {
          "output_type": "stream",
          "name": "stderr",
          "text": [
            "/usr/local/lib/python3.11/dist-packages/sklearn/utils/validation.py:2739: UserWarning: X does not have valid feature names, but LogisticRegression was fitted with feature names\n",
            "  warnings.warn(\n"
          ]
        }
      ]
    },
    {
      "cell_type": "code",
      "source": [
        "# Generate random numerical feature values (same count as num_cols)\n",
        "random_num_features = np.random.rand(len(num_cols)).reshape(1, -1)  # Ensure correct shape\n",
        "random_num_features = scaler.transform(random_num_features)  # Scale numerical features\n",
        "\n",
        "# Convert to DataFrame\n",
        "random_df = pd.DataFrame(random_num_features, columns=num_cols)\n",
        "\n",
        "# Add categorical features using mode values (most common value)\n",
        "for col in cat_cols:\n",
        "    random_df[col] = df[col].mode()[0]  # Fill with the most common category\n",
        "\n",
        "# Ensure the column order matches training data\n",
        "random_df = random_df[X_train.columns]\n",
        "\n",
        "# Make a prediction\n",
        "random_pred = log_reg.predict(random_df)[0]\n",
        "\n",
        "print(f\"\\n Checking a Completely Random Sample:\")\n",
        "print(f\" Predicted Label: {'Rain' if random_pred == 1 else 'No Rain'}\")"
      ],
      "metadata": {
        "colab": {
          "base_uri": "https://localhost:8080/"
        },
        "id": "yhNCqDa0GtGs",
        "outputId": "7741a3a0-77cc-4ac6-bb08-c9154e6da45a"
      },
      "execution_count": 27,
      "outputs": [
        {
          "output_type": "stream",
          "name": "stdout",
          "text": [
            "\n",
            " Checking a Completely Random Sample:\n",
            " Predicted Label: Rain\n"
          ]
        },
        {
          "output_type": "stream",
          "name": "stderr",
          "text": [
            "/usr/local/lib/python3.11/dist-packages/sklearn/utils/validation.py:2739: UserWarning: X does not have valid feature names, but StandardScaler was fitted with feature names\n",
            "  warnings.warn(\n"
          ]
        }
      ]
    }
  ]
}