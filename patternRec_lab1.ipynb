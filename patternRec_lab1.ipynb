{
 "cells": [
  {
   "cell_type": "code",
   "execution_count": 1,
   "metadata": {
    "id": "Ix5n2JtvB9rr"
   },
   "outputs": [],
   "source": [
    "# Import necessary libraries\n",
    "import numpy as np\n",
    "import pandas as pd\n",
    "from sklearn.datasets import load_iris"
   ]
  },
  {
   "cell_type": "code",
   "execution_count": 2,
   "metadata": {
    "id": "q-aGrWOkCD27"
   },
   "outputs": [],
   "source": [
    "# Load the Iris dataset\n",
    "iris = load_iris()"
   ]
  },
  {
   "cell_type": "code",
   "execution_count": 3,
   "metadata": {
    "id": "rIGIw_rWCH-I"
   },
   "outputs": [],
   "source": [
    "# Convert to a Pandas DataFrame\n",
    "data = pd.DataFrame(data=iris.data, columns=iris.feature_names)\n",
    "data['target'] = iris.target\n",
    "data['species'] = data['target'].map({i: species for i, species in enumerate(iris.target_names)})\n"
   ]
  },
  {
   "cell_type": "code",
   "execution_count": 4,
   "metadata": {
    "colab": {
     "base_uri": "https://localhost:8080/"
    },
    "id": "8xqaivZ_CMN9",
    "outputId": "15655a16-b086-48ac-8caf-212d3884af45"
   },
   "outputs": [
    {
     "name": "stdout",
     "output_type": "stream",
     "text": [
      "Dataset Preview:\n",
      "   sepal length (cm)  sepal width (cm)  petal length (cm)  petal width (cm)  \\\n",
      "0                5.1               3.5                1.4               0.2   \n",
      "1                4.9               3.0                1.4               0.2   \n",
      "2                4.7               3.2                1.3               0.2   \n",
      "3                4.6               3.1                1.5               0.2   \n",
      "4                5.0               3.6                1.4               0.2   \n",
      "\n",
      "   target species  \n",
      "0       0  setosa  \n",
      "1       0  setosa  \n",
      "2       0  setosa  \n",
      "3       0  setosa  \n",
      "4       0  setosa  \n"
     ]
    }
   ],
   "source": [
    "# Display the first few rows of the dataset\n",
    "print(\"Dataset Preview:\")\n",
    "print(data.head())"
   ]
  },
  {
   "cell_type": "code",
   "execution_count": 5,
   "metadata": {
    "colab": {
     "base_uri": "https://localhost:8080/"
    },
    "id": "msoYhsWBCOjJ",
    "outputId": "1906932d-b149-4984-ff7f-47eb276d2781"
   },
   "outputs": [
    {
     "name": "stdout",
     "output_type": "stream",
     "text": [
      "\n",
      "--- NumPy Functions ---\n",
      "Mean of features: [5.84333333 3.05733333 3.758      1.19933333]\n",
      "Standard deviation of features: [0.82530129 0.43441097 1.75940407 0.75969263]\n",
      "Min values of features: [4.3 2.  1.  0.1]\n",
      "Max values of features: [7.9 4.4 6.9 2.5]\n",
      "Sum of features: [876.5 458.6 563.7 179.9]\n"
     ]
    }
   ],
   "source": [
    "# Applying NumPy functions\n",
    "print(\"\\n--- NumPy Functions ---\")\n",
    "# Convert dataset values to a NumPy array\n",
    "np_data = data.iloc[:, :-2].values  # Exclude target and species columns\n",
    "# Mean of each feature\n",
    "mean_features = np.mean(np_data, axis=0)\n",
    "print(\"Mean of features:\", mean_features)\n",
    "# Standard deviation of each feature\n",
    "std_features = np.std(np_data, axis=0)\n",
    "print(\"Standard deviation of features:\", std_features)\n",
    "# Min and Max values of each feature\n",
    "min_features = np.min(np_data, axis=0)\n",
    "max_features = np.max(np_data, axis=0)\n",
    "print(\"Min values of features:\", min_features)\n",
    "print(\"Max values of features:\", max_features)\n",
    "# Sum of all feature values\n",
    "sum_features = np.sum(np_data, axis=0)\n",
    "print(\"Sum of features:\", sum_features)"
   ]
  },
  {
   "cell_type": "code",
   "execution_count": 6,
   "metadata": {
    "colab": {
     "base_uri": "https://localhost:8080/"
    },
    "id": "v4m-a-aoCedf",
    "outputId": "30c731d2-d7c9-457b-c471-327eb51c2984"
   },
   "outputs": [
    {
     "name": "stdout",
     "output_type": "stream",
     "text": [
      "\n",
      "--- Pandas Functions ---\n",
      "Summary statistics:\n",
      "       sepal length (cm)  sepal width (cm)  petal length (cm)  \\\n",
      "count         150.000000        150.000000         150.000000   \n",
      "mean            5.843333          3.057333           3.758000   \n",
      "std             0.828066          0.435866           1.765298   \n",
      "min             4.300000          2.000000           1.000000   \n",
      "25%             5.100000          2.800000           1.600000   \n",
      "50%             5.800000          3.000000           4.350000   \n",
      "75%             6.400000          3.300000           5.100000   \n",
      "max             7.900000          4.400000           6.900000   \n",
      "\n",
      "       petal width (cm)      target  \n",
      "count        150.000000  150.000000  \n",
      "mean           1.199333    1.000000  \n",
      "std            0.762238    0.819232  \n",
      "min            0.100000    0.000000  \n",
      "25%            0.300000    0.000000  \n",
      "50%            1.300000    1.000000  \n",
      "75%            1.800000    2.000000  \n",
      "max            2.500000    2.000000  \n",
      "\n",
      "Mean features grouped by species:\n",
      "            sepal length (cm)  sepal width (cm)  petal length (cm)  \\\n",
      "species                                                              \n",
      "setosa                  5.006             3.428              1.462   \n",
      "versicolor              5.936             2.770              4.260   \n",
      "virginica               6.588             2.974              5.552   \n",
      "\n",
      "            petal width (cm)  target  \n",
      "species                               \n",
      "setosa                 0.246     0.0  \n",
      "versicolor             1.326     1.0  \n",
      "virginica              2.026     2.0  \n",
      "\n",
      "Null value check:\n",
      "sepal length (cm)    0\n",
      "sepal width (cm)     0\n",
      "petal length (cm)    0\n",
      "petal width (cm)     0\n",
      "target               0\n",
      "species              0\n",
      "dtype: int64\n",
      "\n",
      "Correlation matrix:\n",
      "                   sepal length (cm)  sepal width (cm)  petal length (cm)  \\\n",
      "sepal length (cm)           1.000000         -0.117570           0.871754   \n",
      "sepal width (cm)           -0.117570          1.000000          -0.428440   \n",
      "petal length (cm)           0.871754         -0.428440           1.000000   \n",
      "petal width (cm)            0.817941         -0.366126           0.962865   \n",
      "target                      0.782561         -0.426658           0.949035   \n",
      "\n",
      "                   petal width (cm)    target  \n",
      "sepal length (cm)          0.817941  0.782561  \n",
      "sepal width (cm)          -0.366126 -0.426658  \n",
      "petal length (cm)          0.962865  0.949035  \n",
      "petal width (cm)           1.000000  0.956547  \n",
      "target                     0.956547  1.000000  \n",
      "\n",
      "Dataset saved to 'iris_dataset.csv'\n"
     ]
    }
   ],
   "source": [
    "# Applying Pandas functions\n",
    "print(\"\\n--- Pandas Functions ---\")\n",
    "# Summary statistics of the dataset\n",
    "print(\"Summary statistics:\")\n",
    "print(data.describe())\n",
    "# Group by species and calculate the mean of each feature\n",
    "print(\"\\nMean features grouped by species:\")\n",
    "print(data.groupby('species').mean())\n",
    "\n",
    "# Checking for null values\n",
    "print(\"\\nNull value check:\")\n",
    "print(data.isnull().sum())\n",
    "\n",
    "# Correlation between features\n",
    "print(\"\\nCorrelation matrix:\")\n",
    "# Select only numerical features for correlation calculation\n",
    "numerical_data = data.select_dtypes(include=np.number)  # Exclude non-numeric columns like 'species'\n",
    "print(numerical_data.corr())\n",
    "# Save the DataFrame to a CSV file\n",
    "data.to_csv(\"iris_dataset.csv\", index=False)\n",
    "print(\"\\nDataset saved to 'iris_dataset.csv'\")"
   ]
  },
  {
   "cell_type": "code",
   "execution_count": null,
   "metadata": {
    "id": "a0Z3mCJ3ATqK"
   },
   "outputs": [],
   "source": []
  },
  {
   "cell_type": "code",
   "execution_count": null,
   "id": "0311fd4a",
   "metadata": {},
   "outputs": [],
   "source": [
    "\n",
    "# NumPy: Array Creation\n",
    "print(\"\\n--- NumPy Array Creation ---\")\n",
    "arr_from_list = np.array([1, 2, 3, 4, 5])\n",
    "arr_range = np.arange(10)\n",
    "arr_zeros = np.zeros((2, 3))\n",
    "arr_random = np.random.random((3, 3))\n",
    "\n",
    "print(\"Array from list:\", arr_from_list)\n",
    "print(\"Array with range:\", arr_range)\n",
    "print(\"Array of zeros:\n",
    "\", arr_zeros)\n",
    "print(\"Random array:\n",
    "\", arr_random)\n"
   ]
  },
  {
   "cell_type": "code",
   "execution_count": null,
   "id": "1b21e9d2",
   "metadata": {},
   "outputs": [],
   "source": [
    "\n",
    "# NumPy: Dimension and Size Check\n",
    "print(\"\\n--- NumPy Dimensions and Size ---\")\n",
    "print(\"Shape:\", arr_random.shape)\n",
    "print(\"Dimensions:\", arr_random.ndim)\n",
    "print(\"Size:\", arr_random.size)\n"
   ]
  },
  {
   "cell_type": "code",
   "execution_count": null,
   "id": "c3679ddf",
   "metadata": {},
   "outputs": [],
   "source": [
    "\n",
    "# NumPy: Array Manipulation\n",
    "print(\"\\n--- NumPy Array Manipulation ---\")\n",
    "arr_reshaped = arr_range.reshape(2, 5)\n",
    "arr_stacked = np.hstack((arr_reshaped, arr_reshaped))\n",
    "arr_split = np.array_split(arr_range, 3)\n",
    "\n",
    "print(\"Reshaped array:\n",
    "\", arr_reshaped)\n",
    "print(\"Horizontally stacked array:\n",
    "\", arr_stacked)\n",
    "print(\"Split array:\", arr_split)\n"
   ]
  },
  {
   "cell_type": "code",
   "execution_count": null,
   "id": "a0bf155f",
   "metadata": {},
   "outputs": [],
   "source": [
    "\n",
    "# NumPy: Arithmetic Operations\n",
    "print(\"\\n--- NumPy Arithmetic Operations ---\")\n",
    "arr1 = np.array([1, 2, 3])\n",
    "arr2 = np.array([4, 5, 6])\n",
    "\n",
    "print(\"Addition:\", arr1 + arr2)\n",
    "print(\"Subtraction:\", arr1 - arr2)\n",
    "print(\"Element-wise multiplication:\", arr1 * arr2)\n",
    "print(\"Element-wise division:\", arr1 / arr2)\n"
   ]
  },
  {
   "cell_type": "code",
   "execution_count": null,
   "id": "728702e7",
   "metadata": {},
   "outputs": [],
   "source": [
    "\n",
    "# NumPy: Indexing, Slicing, and Masking\n",
    "print(\"\\n--- NumPy Indexing, Slicing, and Masking ---\")\n",
    "print(\"Original array:\", arr_range)\n",
    "print(\"First 5 elements:\", arr_range[:5])\n",
    "print(\"Elements greater than 5:\", arr_range[arr_range > 5])\n"
   ]
  },
  {
   "cell_type": "code",
   "execution_count": null,
   "id": "4d65051a",
   "metadata": {},
   "outputs": [],
   "source": [
    "\n",
    "# NumPy: Shape Manipulation\n",
    "print(\"\\n--- NumPy Shape Manipulation ---\")\n",
    "flattened = arr_reshaped.flatten()\n",
    "reshaped_again = flattened.reshape(5, 2)\n",
    "print(\"Flattened array:\", flattened)\n",
    "print(\"Reshaped array:\n",
    "\", reshaped_again)\n"
   ]
  },
  {
   "cell_type": "code",
   "execution_count": null,
   "id": "8512792b",
   "metadata": {},
   "outputs": [],
   "source": [
    "\n",
    "# Pandas: Import/Export Data\n",
    "print(\"\\n--- Pandas Import/Export ---\")\n",
    "# Exporting the DataFrame to JSON and Excel\n",
    "data.to_json(\"iris_dataset.json\", orient=\"records\", lines=True)\n",
    "data.to_excel(\"iris_dataset.xlsx\", index=False)\n",
    "print(\"Dataset saved to 'iris_dataset.json' and 'iris_dataset.xlsx'\")\n"
   ]
  },
  {
   "cell_type": "code",
   "execution_count": null,
   "id": "aaf8faaa",
   "metadata": {},
   "outputs": [],
   "source": [
    "\n",
    "# Pandas: Data Cleanup\n",
    "print(\"\\n--- Pandas Data Cleanup ---\")\n",
    "data_with_nan = data.copy()\n",
    "data_with_nan.iloc[0, 0] = np.nan  # Introduce NaN value\n",
    "print(\"Data with NaN value:\n",
    "\", data_with_nan.head())\n",
    "\n",
    "# Handle missing values\n",
    "data_cleaned = data_with_nan.dropna()\n",
    "print(\"Cleaned data:\n",
    "\", data_cleaned.head())\n",
    "\n",
    "# Check for duplicates\n",
    "print(\"Duplicates check:\", data.duplicated().sum())\n"
   ]
  },
  {
   "cell_type": "code",
   "execution_count": null,
   "id": "0fdfd6e7",
   "metadata": {},
   "outputs": [],
   "source": [
    "\n",
    "# Pandas: Indexing and Grouping\n",
    "print(\"\\n--- Pandas Indexing and Grouping ---\")\n",
    "grouped = data.groupby(\"species\").agg([\"mean\", \"max\", \"min\"])\n",
    "print(\"Grouped data:\n",
    "\", grouped)\n"
   ]
  },
  {
   "cell_type": "code",
   "execution_count": null,
   "id": "5797db93",
   "metadata": {},
   "outputs": [],
   "source": [
    "\n",
    "# Pandas: Short Filtering\n",
    "print(\"\\n--- Pandas Short Filtering ---\")\n",
    "filtered_data = data[data[\"sepal length (cm)\"] > 5.0]\n",
    "print(\"Filtered data (sepal length > 5.0):\n",
    "\", filtered_data.head())\n"
   ]
  },
  {
   "cell_type": "code",
   "execution_count": null,
   "id": "5cd2b694",
   "metadata": {},
   "outputs": [],
   "source": [
    "\n",
    "# Pandas: Merge DataFrames\n",
    "print(\"\\n--- Pandas Merging ---\")\n",
    "df1 = pd.DataFrame({\"key\": [1, 2, 3], \"value1\": [\"A\", \"B\", \"C\"]})\n",
    "df2 = pd.DataFrame({\"key\": [2, 3, 4], \"value2\": [\"X\", \"Y\", \"Z\"]})\n",
    "\n",
    "merged = pd.merge(df1, df2, on=\"key\", how=\"inner\")\n",
    "print(\"Merged DataFrame:\n",
    "\", merged)\n"
   ]
  },
  {
   "cell_type": "code",
   "execution_count": null,
   "id": "9ba5658b",
   "metadata": {},
   "outputs": [],
   "source": [
    "\n",
    "# Pandas: Statistical Visualization\n",
    "import matplotlib.pyplot as plt\n",
    "\n",
    "print(\"\\n--- Pandas Statistical Visualization ---\")\n",
    "data.groupby(\"species\").mean().plot(kind=\"bar\", figsize=(8, 5), title=\"Mean Features by Species\")\n",
    "plt.show()\n"
   ]
  }
 ],
 "metadata": {
  "colab": {
   "provenance": [],
   "toc_visible": true
  },
  "kernelspec": {
   "display_name": "Python 3",
   "name": "python3"
  },
  "language_info": {
   "name": "python"
  }
 },
 "nbformat": 4,
 "nbformat_minor": 0
}
